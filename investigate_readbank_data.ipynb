{
 "cells": [
  {
   "cell_type": "code",
   "execution_count": 1,
   "metadata": {},
   "outputs": [],
   "source": [
    "import json\n",
    "import os"
   ]
  },
  {
   "cell_type": "code",
   "execution_count": 3,
   "metadata": {},
   "outputs": [
    {
     "data": {
      "text/plain": [
       "['dataset-train-s2s-text-m3.json',\n",
       " 'dataset-train-s2s-layout-m7.json',\n",
       " 'dataset-train-s2s-text-m2.json',\n",
       " 'dataset-train-s2s-text-m6.json',\n",
       " 'dataset-train-s2s-text-m4.json',\n",
       " 'dataset-train-s2s-text-m7.json',\n",
       " 'dataset-train-s2s-layout-m4.json',\n",
       " 'dataset-train-s2s-layout-m1.json',\n",
       " 'dataset-train-s2s-layout-m3.json',\n",
       " 'dataset-train-s2s-layout-m6.json',\n",
       " 'dataset-train-s2s-text-m1.json',\n",
       " 'dataset-train-s2s-layout-m2.json']"
      ]
     },
     "execution_count": 3,
     "metadata": {},
     "output_type": "execute_result"
    }
   ],
   "source": [
    "train_path = \"../../ReadingBank/train/\"\n",
    "\n",
    "os.listdir(\"../../ReadingBank/train/\")"
   ]
  },
  {
   "cell_type": "code",
   "execution_count": 4,
   "metadata": {},
   "outputs": [],
   "source": [
    "example_text_file = 'dataset-train-s2s-text-m3.json'\n",
    "example_layout_file = 'dataset-train-s2s-layout-m3.json'\n",
    "\n",
    "example_text_path = os.path.join(train_path, example_text_file)\n",
    "exampel_layout_path = os.path.join(train_path, example_layout_file)"
   ]
  },
  {
   "cell_type": "code",
   "execution_count": 13,
   "metadata": {},
   "outputs": [
    {
     "data": {
      "text/plain": [
       "'{\"src\": \"Expected Observed Area Action Pass/ Fail Comments Outcome Outcome Log into iPassport (as - - - - - - the alternate user) Menu Click the Profile The User Details tab option in the header should load Click the View My The staff profile Staff Profile link should load for the logged in user on the General tab Check the information You should see “You message in the have control over middle of the screen who can view certain personal information stored about you in iPassport…” Check under the There should be a information message field called Restrict visibility of these field fields to Click the pencil edit The field should icon for the Restrict expand visibility of these fields to field Check the items in There should be four the drop down items\", \"tgt\": \"Area Action Expected Outcome Observed Outcome Pass/ Fail Comments Log into iPassport (as the alternate user) - - - - - - Menu Click the Profile option in the header The User Details tab should load Click the View My Staff Profile link The staff profile should load for the logged in user on the General tab Check the information message in the middle of the screen You should see “You have control over who can view certain personal information stored about you in iPassport…” Check under the information message There should be a field called Restrict visibility of these fields to field Click the pencil edit icon for the Restrict visibility of these fields to field The field should expand Check the items in the drop down There should be four items\", \"bleu\": 0.6087472503720215, \"tgt_index\": [2, 3, 0, 7, 1, 8, 4, 5, 6, 9, 10, 11, 12, 19, 20, 21, 13, 14, 15, 16, 17, 18, 22, 23, 24, 25, 30, 31, 32, 33, 26, 27, 28, 29, 34, 35, 36, 37, 38, 39, 43, 44, 45, 40, 41, 42, 46, 47, 48, 49, 50, 51, 52, 53, 54, 55, 56, 57, 58, 59, 64, 65, 66, 70, 71, 72, 73, 60, 61, 62, 63, 67, 68, 69, 74, 75, 76, 77, 78, 79, 80, 81, 82, 83, 84, 85, 86, 87, 92, 93, 88, 89, 90, 91, 94, 95, 96, 97, 98, 99, 101, 102, 100, 103, 104, 105, 106, 110, 111, 112, 113, 115, 116, 117, 118, 119, 120, 107, 108, 109, 114, 121, 122, 123, 124, 129, 130, 131, 125, 126, 127, 128, 132], \"original_filename\": \"Personal_info_visibility_validation_v1.0.docx\", \"filename\": \"task-1678-766\", \"page_idx\": 1}\\n'"
      ]
     },
     "execution_count": 13,
     "metadata": {},
     "output_type": "execute_result"
    }
   ],
   "source": [
    "with open(example_text_path, mode=\"r\") as f:\n",
    "    text_data_string = f.read()\n",
    "\n",
    "str(text_data_string)[:2239]"
   ]
  },
  {
   "cell_type": "code",
   "execution_count": 17,
   "metadata": {},
   "outputs": [
    {
     "name": "stdout",
     "output_type": "stream",
     "text": [
      "src:\n",
      "Expected Observed Area Action Pass/ Fail Comments Outcome Outcome Log into iPassport (as - - - - - - the alternate user) Menu Click the Profile The User Details tab option in the header should load Click the View My The staff profile Staff Profile link should load for the logged in user on the General tab Check the information You should see “You message in the have control over middle of the screen who can view certain personal information stored about you in iPassport…” Check under the There should be a information message field called Restrict visibility of these field fields to Click the pencil edit The field should icon for the Restrict expand visibility of these fields to field Check the items in There should be four the drop down items\n",
      "\n",
      "tgt:\n",
      "Area Action Expected Outcome Observed Outcome Pass/ Fail Comments Log into iPassport (as the alternate user) - - - - - - Menu Click the Profile option in the header The User Details tab should load Click the View My Staff Profile link The staff profile should load for the logged in user on the General tab Check the information message in the middle of the screen You should see “You have control over who can view certain personal information stored about you in iPassport…” Check under the information message There should be a field called Restrict visibility of these fields to field Click the pencil edit icon for the Restrict visibility of these fields to field The field should expand Check the items in the drop down There should be four items\n",
      "\n",
      "bleu:\n",
      "0.6087472503720215\n",
      "\n",
      "tgt_index:\n",
      "[2, 3, 0, 7, 1, 8, 4, 5, 6, 9, 10, 11, 12, 19, 20, 21, 13, 14, 15, 16, 17, 18, 22, 23, 24, 25, 30, 31, 32, 33, 26, 27, 28, 29, 34, 35, 36, 37, 38, 39, 43, 44, 45, 40, 41, 42, 46, 47, 48, 49, 50, 51, 52, 53, 54, 55, 56, 57, 58, 59, 64, 65, 66, 70, 71, 72, 73, 60, 61, 62, 63, 67, 68, 69, 74, 75, 76, 77, 78, 79, 80, 81, 82, 83, 84, 85, 86, 87, 92, 93, 88, 89, 90, 91, 94, 95, 96, 97, 98, 99, 101, 102, 100, 103, 104, 105, 106, 110, 111, 112, 113, 115, 116, 117, 118, 119, 120, 107, 108, 109, 114, 121, 122, 123, 124, 129, 130, 131, 125, 126, 127, 128, 132]\n",
      "\n",
      "original_filename:\n",
      "Personal_info_visibility_validation_v1.0.docx\n",
      "\n",
      "filename:\n",
      "task-1678-766\n",
      "\n",
      "page_idx:\n",
      "1\n",
      "\n"
     ]
    }
   ],
   "source": [
    "for dp in text_data_string.split(\"\\n\"):\n",
    "    text_data = json.loads(dp)\n",
    "\n",
    "    for key, value in text_data.items():\n",
    "        print(key, \":\", sep=\"\")\n",
    "        print(str(value))\n",
    "        print()\n",
    "\n",
    "    break"
   ]
  },
  {
   "cell_type": "code",
   "execution_count": 19,
   "metadata": {},
   "outputs": [
    {
     "name": "stdout",
     "output_type": "stream",
     "text": [
      "src:\n",
      "[[372, 278, 435, 305], [511, 278, 577, 305], [107, 289, 139, 317], [241, 289, 285, 317], [627, 289, 664, 317], [668, 289, 692, 317], [791, 289, 865, 317], [373, 301, 434, 328], [513, 301, 575, 328], [200, 325, 221, 350], [225, 325, 246, 350], [250, 325, 304, 350], [308, 325, 326, 350], [340, 325, 344, 350], [348, 325, 352, 350], [356, 325, 360, 350], [364, 325, 368, 350], [372, 325, 376, 350], [380, 325, 384, 350], [200, 346, 218, 372], [222, 346, 272, 372], [276, 346, 306, 372], [59, 368, 92, 394], [200, 368, 228, 394], [232, 368, 250, 394], [254, 368, 294, 394], [340, 368, 362, 394], [366, 368, 394, 394], [397, 368, 437, 394], [441, 368, 459, 394], [200, 389, 235, 415], [239, 389, 249, 415], [253, 389, 271, 415], [275, 389, 315, 415], [340, 389, 378, 415], [382, 389, 407, 415], [200, 412, 228, 437], [232, 412, 250, 437], [254, 412, 283, 437], [287, 412, 305, 437], [340, 412, 362, 437], [366, 412, 391, 437], [395, 412, 430, 437], [200, 433, 229, 458], [232, 433, 273, 458], [277, 433, 296, 458], [340, 433, 378, 458], [382, 433, 407, 458], [410, 433, 426, 458], [429, 433, 448, 458], [340, 454, 379, 479], [383, 454, 393, 479], [397, 454, 422, 479], [426, 454, 440, 479], [444, 454, 462, 479], [340, 475, 389, 501], [392, 475, 411, 501], [200, 497, 237, 523], [240, 497, 259, 523], [262, 497, 327, 523], [340, 497, 363, 523], [367, 497, 405, 523], [409, 500, 430, 521], [434, 500, 461, 521], [200, 519, 253, 544], [256, 519, 267, 544], [270, 519, 288, 544], [340, 519, 368, 544], [372, 519, 411, 544], [415, 519, 440, 544], [200, 540, 238, 565], [242, 540, 253, 565], [256, 540, 275, 565], [278, 540, 318, 565], [340, 540, 364, 565], [368, 540, 389, 565], [392, 540, 419, 565], [422, 540, 461, 565], [340, 561, 390, 587], [394, 561, 458, 587], [340, 582, 376, 608], [380, 582, 413, 608], [416, 582, 437, 608], [441, 582, 451, 608], [340, 607, 412, 627], [200, 626, 237, 651], [240, 626, 274, 651], [277, 626, 296, 651], [340, 626, 374, 651], [378, 626, 416, 651], [420, 626, 435, 651], [438, 626, 445, 651], [200, 647, 264, 672], [268, 647, 321, 672], [340, 647, 364, 672], [368, 647, 402, 672], [405, 647, 454, 673], [340, 668, 392, 694], [396, 668, 408, 694], [412, 668, 446, 694], [394, 689, 418, 715], [340, 690, 374, 715], [378, 690, 390, 715], [200, 712, 228, 737], [232, 712, 250, 737], [254, 712, 288, 737], [291, 712, 312, 737], [340, 712, 362, 737], [366, 712, 390, 737], [394, 712, 432, 737], [200, 733, 224, 758], [227, 733, 243, 758], [246, 733, 265, 758], [268, 733, 317, 758], [340, 733, 383, 758], [200, 754, 252, 780], [256, 754, 268, 780], [272, 754, 306, 780], [200, 775, 234, 801], [237, 775, 250, 801], [253, 775, 277, 801], [200, 798, 237, 823], [240, 798, 259, 823], [262, 798, 293, 823], [297, 798, 307, 823], [340, 798, 374, 823], [378, 798, 416, 823], [420, 798, 435, 823], [438, 798, 461, 823], [200, 819, 218, 844], [222, 819, 248, 844], [251, 819, 283, 844], [340, 819, 371, 844]]\n",
      "\n",
      "tgt:\n",
      "[[107, 289, 139, 317], [241, 289, 285, 317], [372, 278, 435, 305], [373, 301, 434, 328], [511, 278, 577, 305], [513, 301, 575, 328], [627, 289, 664, 317], [668, 289, 692, 317], [791, 289, 865, 317], [200, 325, 221, 350], [225, 325, 246, 350], [250, 325, 304, 350], [308, 325, 326, 350], [200, 346, 218, 372], [222, 346, 272, 372], [276, 346, 306, 372], [340, 325, 344, 350], [348, 325, 352, 350], [356, 325, 360, 350], [364, 325, 368, 350], [372, 325, 376, 350], [380, 325, 384, 350], [59, 368, 92, 394], [200, 368, 228, 394], [232, 368, 250, 394], [254, 368, 294, 394], [200, 389, 235, 415], [239, 389, 249, 415], [253, 389, 271, 415], [275, 389, 315, 415], [340, 368, 362, 394], [366, 368, 394, 394], [397, 368, 437, 394], [441, 368, 459, 394], [340, 389, 378, 415], [382, 389, 407, 415], [200, 412, 228, 437], [232, 412, 250, 437], [254, 412, 283, 437], [287, 412, 305, 437], [200, 433, 229, 458], [232, 433, 273, 458], [277, 433, 296, 458], [340, 412, 362, 437], [366, 412, 391, 437], [395, 412, 430, 437], [340, 433, 378, 458], [382, 433, 407, 458], [410, 433, 426, 458], [429, 433, 448, 458], [340, 454, 379, 479], [383, 454, 393, 479], [397, 454, 422, 479], [426, 454, 440, 479], [444, 454, 462, 479], [340, 475, 389, 501], [392, 475, 411, 501], [200, 497, 237, 523], [240, 497, 259, 523], [262, 497, 327, 523], [200, 519, 253, 544], [256, 519, 267, 544], [270, 519, 288, 544], [200, 540, 238, 565], [242, 540, 253, 565], [256, 540, 275, 565], [278, 540, 318, 565], [340, 497, 363, 523], [367, 497, 405, 523], [409, 500, 430, 521], [434, 500, 461, 521], [340, 519, 368, 544], [372, 519, 411, 544], [415, 519, 440, 544], [340, 540, 364, 565], [368, 540, 389, 565], [392, 540, 419, 565], [422, 540, 461, 565], [340, 561, 390, 587], [394, 561, 458, 587], [340, 582, 376, 608], [380, 582, 413, 608], [416, 582, 437, 608], [441, 582, 451, 608], [340, 607, 412, 627], [200, 626, 237, 651], [240, 626, 274, 651], [277, 626, 296, 651], [200, 647, 264, 672], [268, 647, 321, 672], [340, 626, 374, 651], [378, 626, 416, 651], [420, 626, 435, 651], [438, 626, 445, 651], [340, 647, 364, 672], [368, 647, 402, 672], [405, 647, 454, 673], [340, 668, 392, 694], [396, 668, 408, 694], [412, 668, 446, 694], [340, 690, 374, 715], [378, 690, 390, 715], [394, 689, 418, 715], [200, 712, 228, 737], [232, 712, 250, 737], [254, 712, 288, 737], [291, 712, 312, 737], [200, 733, 224, 758], [227, 733, 243, 758], [246, 733, 265, 758], [268, 733, 317, 758], [200, 754, 252, 780], [256, 754, 268, 780], [272, 754, 306, 780], [200, 775, 234, 801], [237, 775, 250, 801], [253, 775, 277, 801], [340, 712, 362, 737], [366, 712, 390, 737], [394, 712, 432, 737], [340, 733, 383, 758], [200, 798, 237, 823], [240, 798, 259, 823], [262, 798, 293, 823], [297, 798, 307, 823], [200, 819, 218, 844], [222, 819, 248, 844], [251, 819, 283, 844], [340, 798, 374, 823], [378, 798, 416, 823], [420, 798, 435, 823], [438, 798, 461, 823], [340, 819, 371, 844]]\n",
      "\n"
     ]
    }
   ],
   "source": [
    "with open(exampel_layout_path, mode=\"r\") as f:\n",
    "    layout_data_string = f.read()\n",
    "\n",
    "str(layout_data_string)[:2239]\n",
    "\n",
    "for dp in layout_data_string.split(\"\\n\"):\n",
    "    layout_data = json.loads(dp)\n",
    "\n",
    "    for key, value in layout_data.items():\n",
    "        print(key, \":\", sep=\"\")\n",
    "        print(str(value))\n",
    "        print()\n",
    "\n",
    "    break"
   ]
  },
  {
   "cell_type": "code",
   "execution_count": 22,
   "metadata": {},
   "outputs": [
    {
     "data": {
      "text/plain": [
       "'It was a dark and stormy night.'"
      ]
     },
     "execution_count": 22,
     "metadata": {},
     "output_type": "execute_result"
    }
   ],
   "source": [
    "from docx import Document\n",
    "\n",
    "docx_folder_path = \"../../docx_cvs\"\n",
    "\n",
    "document = Document()\n",
    "document.add_paragraph(\"It was a dark and stormy night.\")\n",
    "document.save(os.path.join(docx_folder_path, \"dark-and-stormy.docx\"))\n",
    "\n",
    "document = Document(os.path.join(docx_folder_path, \"dark-and-stormy.docx\"))\n",
    "document.paragraphs[0].text"
   ]
  },
  {
   "cell_type": "code",
   "execution_count": 25,
   "metadata": {},
   "outputs": [
    {
     "data": {
      "text/plain": [
       "<docx.document.Document at 0x7f1abc0be3d0>"
      ]
     },
     "execution_count": 25,
     "metadata": {},
     "output_type": "execute_result"
    }
   ],
   "source": [
    "docx_file = \"new_resume_001.docx\"\n",
    "\n",
    "docx_path = os.path.join(docx_folder_path, docx_file)\n",
    "\n",
    "\n",
    "# https://python-docx.readthedocs.io/en/latest/\n",
    "\n",
    "document = Document(docx_path)\n",
    "document"
   ]
  },
  {
   "cell_type": "markdown",
   "metadata": {},
   "source": [
    "# Make CUSTOM DATA"
   ]
  },
  {
   "cell_type": "code",
   "execution_count": null,
   "metadata": {},
   "outputs": [],
   "source": [
    "# The threads (en de linked): https://github.com/microsoft/unilm/issues/464\n",
    "# deze functie: https://github.com/microsoft/unilm/blob/master/layoutreader/s2s_ft/utils.py#L402\n",
    "\n",
    "\n",
    "\n",
    "import logging\n",
    "from typing import Tuple, List\n",
    "import os\n",
    "import numpy as np\n",
    "import torch\n",
    "from transformers import AutoTokenizer\n",
    "\n",
    "import s2s_ft.s2s_loader as seq2seq_loader\n",
    "from s2s_ft.modeling_decoding import LayoutlmForSeq2SeqDecoder, BertConfig\n",
    "from s2s_ft.s2s_loader import Preprocess4Seq2seqDecoder\n",
    "\n",
    "\n",
    "class TextOrderer:\n",
    "    def __init__(self, model_path: str):\n",
    "        self.device = torch.device(\"cuda\" if torch.cuda.is_available() else \"cpu\")  # pylint: disable=no-member\n",
    "        self.tokenizer = AutoTokenizer.from_pretrained(\"microsoft/layoutlmv2-base-uncased\")\n",
    "        config_file = os.path.join(model_path, \"config.json\")\n",
    "\n",
    "        self.config = BertConfig.from_json_file(config_file, layoutlm_only_layout_flag=True)\n",
    "        self.model = LayoutlmForSeq2SeqDecoder.from_pretrained(model_path, config=self.config).to(self.device)\n",
    "        self.max_len = 511\n",
    "        self.preprocessor = Preprocess4Seq2seqDecoder(\n",
    "            list(self.tokenizer.vocab.keys()),\n",
    "            self.tokenizer.convert_tokens_to_ids,\n",
    "            1024,\n",
    "            max_tgt_length=self.max_len,\n",
    "            layout_flag=True\n",
    "        )\n",
    "\n",
    "    def __call__(self, *args, **kwargs):\n",
    "        return self.reconstruct(*args, **kwargs)\n",
    "\n",
    "    def forward(self, words, boxes) -> List[int]:\n",
    "        \"\"\"\n",
    "        :param words: Word list [sorted in top-down / left-right fashion for best performance)\n",
    "        :param boxes: Normalized bounding box list (layoutlm format)\n",
    "        :return: Re-ordered index list\n",
    "        \"\"\"\n",
    "        assert len(words) == len(boxes)\n",
    "\n",
    "        instance = [[x[0], *x[1]] for x in list(zip(words, boxes))], len(boxes)\n",
    "        instances = [self.preprocessor(instance)]\n",
    "        with torch.no_grad():\n",
    "            batch = seq2seq_loader.batch_list_to_batch_tensors(\n",
    "                instances)\n",
    "            batch = [\n",
    "                t.to(self.device) if t is not None else None for t in batch]\n",
    "            input_ids, token_type_ids, position_ids, input_mask, mask_qkv, task_idx = batch\n",
    "\n",
    "            traces = self.model(input_ids, token_type_ids,\n",
    "                                position_ids, input_mask, task_idx=task_idx, mask_qkv=mask_qkv)\n",
    "            output_ids = traces.squeeze().tolist()\n",
    "            output_ids = list(np.array(output_ids) - 1)\n",
    "            return output_ids\n",
    "\n",
    "\n",
    "    def reconstruct(self, words: List[str], boxes: List[List[int]]) -> Tuple[List[str], List[List[int]]]:\n",
    "\n",
    "        assert len(words) == len(boxes)\n",
    "\n",
    "        if len(words) > self.max_len:\n",
    "            logging.warning(\n",
    "                f\"Page contains {len(words)} words. Exceeds the {self.max_len} limit and will not be reordered.\")\n",
    "            return words, boxes\n",
    "\n",
    "        try:\n",
    "            idx = self.forward(words, boxes)\n",
    "            processed_idx = list(dict.fromkeys(idx))\n",
    "            if len(processed_idx) != len(words):\n",
    "                processed_idx = [idx for idx in processed_idx if idx < len(words)]\n",
    "                unused_idx = sorted(list(set(range(len(words))) - set(processed_idx[:len(words)])))\n",
    "                logging.info(\n",
    "                    f\"There is {len(words)} words but only {len(processed_idx)} indexes. \"\n",
    "                    f\"Unmatched indexes: {unused_idx}\")\n",
    "                processed_idx.extend(unused_idx)\n",
    "                logging.info(f\"There is now {len(words)} wordsand {len(processed_idx)} indexes.\")\n",
    "                assert len(processed_idx) == len(words)\n",
    "\n",
    "            words = list(np.array(words)[processed_idx])\n",
    "            boxes = [elem.tolist() for elem in np.array(boxes)[processed_idx]]\n",
    "            return words, boxes\n",
    "\n",
    "        except Exception as exception: # pylint: disable=broad-except\n",
    "            logging.warning(exception)\n",
    "            return words, boxes\n",
    "        \n",
    "\n",
    "\n",
    "\n",
    "    # convert pdf naar words: List[str], boxes: List[List[int]]\n",
    "        \n",
    "    def extract_text_with_bounding_boxes(pdf_path):\n",
    "        words = []\n",
    "        bounding_boxes = []\n",
    "        \n",
    "        for page_layout in extract_pages(pdf_path):\n",
    "            for element in page_layout:\n",
    "                if isinstance(element, LTTextContainer):\n",
    "                    for text_line in element:\n",
    "                        if isinstance(text_line, LTTextLine):\n",
    "                            word = text_line.get_text().strip()  # Get the text of the line\n",
    "                            bounding_box = text_line.bbox  # Get the bounding box of the line\n",
    "                            bounding_box = [round(coord) for coord in bounding_box]  # Round the coordinates\n",
    "                            words.append(word)\n",
    "                            bounding_boxes.append(bounding_box)\n",
    "        \n",
    "        return words, bounding_boxes\n",
    "\n",
    "# dan kan je reconstruct aanroepen\n",
    "# dan dataset\n",
    "# en dan met layoutreader"
   ]
  }
 ],
 "metadata": {
  "kernelspec": {
   "display_name": "LayoutReader",
   "language": "python",
   "name": "python3"
  },
  "language_info": {
   "codemirror_mode": {
    "name": "ipython",
    "version": 3
   },
   "file_extension": ".py",
   "mimetype": "text/x-python",
   "name": "python",
   "nbconvert_exporter": "python",
   "pygments_lexer": "ipython3",
   "version": "3.7.12"
  }
 },
 "nbformat": 4,
 "nbformat_minor": 2
}
